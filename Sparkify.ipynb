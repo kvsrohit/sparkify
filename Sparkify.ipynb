{
 "cells": [
  {
   "cell_type": "markdown",
   "metadata": {},
   "source": [
    "# Sparkify Project Workspace\n",
    "This workspace contains a tiny subset (128MB) of the full dataset available (12GB). Feel free to use this workspace to build your project, or to explore a smaller subset with Spark before deploying your cluster on the cloud. Instructions for setting up your Spark cluster is included in the last lesson of the Extracurricular Spark Course content.\n",
    "\n",
    "You can follow the steps below to guide your data analysis and model building portion of this project."
   ]
  },
  {
   "cell_type": "markdown",
   "metadata": {},
   "source": [
    "## Project Overview\n",
    "\n",
    "Sparkify is an online music streaming service that allows its users to listen and manage their favourite music. Sparkify offers its services in two tiers. The free tier where users can use Sparkify services for free but songs are interspersed with commercial breaks. The paid tier on the other hand is a premium service that plays ad free music at a monthly subscription fee.\n",
    "\n",
    "Users can add songs to their play list, like or dislike songs, add other users as friends (possibly for sharing playlists) along with upgrading, downgrading or cancelling subscription. Each of the action taken by user is added to an event log which contains event type, timestamp of the event along with user name,  subscription tier and other event specific details.\n",
    "\n",
    "Based on the usage pattern of users, Sparkify would like to predict if a user is at risk of leaving or downgrading their subscription. This will help them identify users who can be icentivised by means of discounts so that they stay.\n"
   ]
  },
  {
   "cell_type": "markdown",
   "metadata": {},
   "source": [
    "## Problem Statement\n",
    "Users cancelling the subscription or downgrading their account is a potential revenue loss. Sparkify would like to avoid and minimize users cancelling or downgrading the subscription.\n",
    "The goal of this project is to apply data analysis and machine learning to predict if a user is at risk of cancelling the subscription. \n",
    "\n",
    "- The data is available in form of user events in json format\n",
    "- Data needs pre-processing in form of\n",
    "\t- Clean up of missing or unusable data\n",
    "\t- Feature extraction to extract meaningful information\n",
    "- The pre-processed data is then used to train several superwised machine learning model.\n",
    "- The best suited model is then chosen to predict future data\n"
   ]
  },
  {
   "cell_type": "code",
   "execution_count": 1,
   "metadata": {},
   "outputs": [],
   "source": [
    "# import libraries\n",
    "from pyspark import SparkContext, SparkConf\n",
    "from pyspark.sql import SparkSession, Window\n",
    "from pyspark.sql.functions import udf, col, desc, asc\n",
    "from pyspark.sql.functions import sum as Fsum, max as Fmax, min as Fmin, window, avg as Favg, count as Fcount, hour as Fhour, count as Fcount\n",
    "from pyspark.sql.functions import datediff, lag, lit\n",
    "from pyspark.sql.types import IntegerType, StringType, TimestampType\n",
    "\n",
    "from pyspark.ml.feature import VectorAssembler, StandardScaler\n",
    "\n",
    "from pyspark.ml.tuning import CrossValidator, ParamGridBuilder\n",
    "from pyspark.ml.classification import LogisticRegression, RandomForestClassifier, LinearSVC, GBTClassifier, DecisionTreeClassifier, NaiveBayes, MultilayerPerceptronClassifier\n",
    "\n",
    "\n",
    "from pyspark.ml.evaluation import BinaryClassificationEvaluator\n",
    "\n",
    "import datetime\n",
    "import numpy as np\n",
    "import pandas as pd\n",
    "import matplotlib.pyplot as plt\n",
    "import matplotlib.dates as pltdates\n",
    "\n",
    "%matplotlib inline"
   ]
  },
  {
   "cell_type": "code",
   "execution_count": 2,
   "metadata": {},
   "outputs": [
    {
     "data": {
      "text/plain": [
       "[('spark.driver.host', 'c355e07b7393'),\n",
       " ('spark.rdd.compress', 'True'),\n",
       " ('spark.app.name', 'Sparkify'),\n",
       " ('spark.app.id', 'local-1561191467629'),\n",
       " ('spark.serializer.objectStreamReset', '100'),\n",
       " ('spark.driver.port', '40893'),\n",
       " ('spark.master', 'local[*]'),\n",
       " ('spark.executor.id', 'driver'),\n",
       " ('spark.submit.deployMode', 'client'),\n",
       " ('spark.ui.showConsoleProgress', 'true')]"
      ]
     },
     "execution_count": 2,
     "metadata": {},
     "output_type": "execute_result"
    }
   ],
   "source": [
    "# create a Spark session\n",
    "spark = SparkSession \\\n",
    "    .builder \\\n",
    "    .appName('Sparkify') \\\n",
    "    .getOrCreate()\n",
    "\n",
    "datafilePath = 'mini_sparkify_event_data.json'\n",
    "processed_file_path = 'sparkify_processed_mini.json'\n",
    "\n",
    "spark.sparkContext.getConf().getAll()"
   ]
  },
  {
   "cell_type": "markdown",
   "metadata": {},
   "source": [
    "# Load and Clean Dataset\n",
    "In this workspace, the mini-dataset file is `mini_sparkify_event_data.json`. Load and clean the dataset, checking for invalid or missing data - for example, records without userids or sessionids. "
   ]
  },
  {
   "cell_type": "code",
   "execution_count": 3,
   "metadata": {},
   "outputs": [
    {
     "name": "stdout",
     "output_type": "stream",
     "text": [
      "root\n",
      " |-- artist: string (nullable = true)\n",
      " |-- auth: string (nullable = true)\n",
      " |-- firstName: string (nullable = true)\n",
      " |-- gender: string (nullable = true)\n",
      " |-- itemInSession: long (nullable = true)\n",
      " |-- lastName: string (nullable = true)\n",
      " |-- length: double (nullable = true)\n",
      " |-- level: string (nullable = true)\n",
      " |-- location: string (nullable = true)\n",
      " |-- method: string (nullable = true)\n",
      " |-- page: string (nullable = true)\n",
      " |-- registration: long (nullable = true)\n",
      " |-- sessionId: long (nullable = true)\n",
      " |-- song: string (nullable = true)\n",
      " |-- status: long (nullable = true)\n",
      " |-- ts: long (nullable = true)\n",
      " |-- userAgent: string (nullable = true)\n",
      " |-- userId: string (nullable = true)\n",
      "\n",
      "(286500, 18)\n"
     ]
    }
   ],
   "source": [
    "user_log = spark.read.json(datafilePath)\n",
    "user_log.printSchema()\n",
    "print((user_log.count(), len(user_log.columns)))"
   ]
  },
  {
   "cell_type": "code",
   "execution_count": 4,
   "metadata": {},
   "outputs": [
    {
     "data": {
      "text/plain": [
       "[Row(artist='Martha Tilston', auth='Logged In', firstName='Colin', gender='M', itemInSession=50, lastName='Freeman', length=277.89016, level='paid', location='Bakersfield, CA', method='PUT', page='NextSong', registration=1538173362000, sessionId=29, song='Rockpools', status=200, ts=1538352117000, userAgent='Mozilla/5.0 (Windows NT 6.1; WOW64; rv:31.0) Gecko/20100101 Firefox/31.0', userId='30'),\n",
       " Row(artist='Five Iron Frenzy', auth='Logged In', firstName='Micah', gender='M', itemInSession=79, lastName='Long', length=236.09424, level='free', location='Boston-Cambridge-Newton, MA-NH', method='PUT', page='NextSong', registration=1538331630000, sessionId=8, song='Canada', status=200, ts=1538352180000, userAgent='\"Mozilla/5.0 (Windows NT 6.1; WOW64) AppleWebKit/537.36 (KHTML, like Gecko) Chrome/37.0.2062.103 Safari/537.36\"', userId='9')]"
      ]
     },
     "execution_count": 4,
     "metadata": {},
     "output_type": "execute_result"
    }
   ],
   "source": [
    "user_log.take(2)"
   ]
  },
  {
   "cell_type": "code",
   "execution_count": 5,
   "metadata": {},
   "outputs": [
    {
     "name": "stdout",
     "output_type": "stream",
     "text": [
      "+-------------------+\n",
      "|               page|\n",
      "+-------------------+\n",
      "|               Home|\n",
      "|              About|\n",
      "|Submit Registration|\n",
      "|              Login|\n",
      "|           Register|\n",
      "|               Help|\n",
      "|              Error|\n",
      "+-------------------+\n",
      "\n",
      "Number of records having no userId or sessionId 8346\n",
      "Number of records having sessionId but missing userId 0\n",
      "Number of records having userId but missing sessionId 0\n"
     ]
    }
   ],
   "source": [
    "no_user_or_session = user_log.filter((user_log.userId == '') | (user_log.sessionId == ''))\n",
    "no_user_or_session.select('page').dropDuplicates().show()\n",
    "\n",
    "print('Number of records having no userId or sessionId', no_user_or_session.count())\n",
    "print('Number of records having sessionId but missing userId', \\\n",
    "      no_user_or_session.filter((user_log.userId == '') & (user_log.sessionId != '')).count())\n",
    "print('Number of records having userId but missing sessionId', \\\n",
    "      no_user_or_session.filter((user_log.userId != '') & (user_log.sessionId == '')).count())"
   ]
  },
  {
   "cell_type": "markdown",
   "metadata": {},
   "source": [
    "We see there are 8346 events without any _userId_ or _sessionId_ association. Looking at the _page_ column for these events it is evident that these records belong to unregistered users. \n",
    "We also see that for these records both sessionId and userId are missing so we can not backfill these records either. Also it appears that the _sessionId_ are rotated and can belong to different users over different period of time. Hence, we can not use _sessionId_ information to backfill the _userId_.\n",
    "\n",
    "We can not extract meaningful insights from these records and we should drop these records from our analysis."
   ]
  },
  {
   "cell_type": "code",
   "execution_count": 6,
   "metadata": {},
   "outputs": [],
   "source": [
    "user_log_valid = user_log.dropna(how='any', subset=['userId', 'sessionId']);\n",
    "user_log_valid = user_log_valid.where(user_log_valid.userId != '')"
   ]
  },
  {
   "cell_type": "markdown",
   "metadata": {},
   "source": [
    "Let us extract 'state' information from **location**."
   ]
  },
  {
   "cell_type": "code",
   "execution_count": 7,
   "metadata": {},
   "outputs": [],
   "source": [
    "get_state = udf(lambda x: x[-2:])\n",
    "user_log_valid = user_log_valid.withColumn('state', get_state(user_log_valid.location))"
   ]
  },
  {
   "cell_type": "markdown",
   "metadata": {},
   "source": [
    "The **timestamp** information appears to be a long value since unix epoch and is difficult to interpret. Let's convert it into timestamp format."
   ]
  },
  {
   "cell_type": "code",
   "execution_count": 8,
   "metadata": {},
   "outputs": [],
   "source": [
    "get_timestamp = udf(lambda x: datetime.datetime.fromtimestamp(x/1000.0), TimestampType())\n",
    "user_log_valid = user_log_valid.withColumn('timestamp', get_timestamp(user_log_valid.ts))"
   ]
  },
  {
   "cell_type": "markdown",
   "metadata": {},
   "source": [
    "# Exploratory Data Analysis\n",
    "When you're working with the full dataset, perform EDA by loading a small subset of the data and doing basic manipulations within Spark. In this workspace, you are already provided a small subset of data you can explore."
   ]
  },
  {
   "cell_type": "markdown",
   "metadata": {},
   "source": [
    "Let us see what other features the dataset contains:"
   ]
  },
  {
   "cell_type": "code",
   "execution_count": 9,
   "metadata": {},
   "outputs": [],
   "source": [
    "count_by_page = user_log_valid.groupby('page').agg(Fcount('page').alias('cnt')).sort('page').toPandas()\n",
    "count_by_gender = user_log_valid.groupby('gender').agg(Fcount('gender').alias('cnt')).sort('gender').toPandas()\n",
    "count_by_level = user_log_valid.groupby('level').agg(Fcount('level').alias('cnt')).sort('level').toPandas()\n",
    "\n",
    "count_by_status = user_log_valid.groupby('status').agg(Fcount('status').alias('cnt')) \\\n",
    "                    .withColumn('status', col('status').cast(StringType())).sort('status').toPandas()\n",
    "users_by_gender = user_log_valid.select('userId', 'gender').dropDuplicates() \\\n",
    "                        .groupBy('gender').agg(Fcount('gender').alias('cnt')).sort('gender').toPandas()\n",
    "\n",
    "\n",
    "\n",
    "w = Window.partitionBy('userId')\n",
    "user_current_level = user_log_valid.withColumn('maxTs', Fmax('ts').over(w))\\\n",
    "    .where(col('ts') == col('maxTs'))\\\n",
    "    .drop('maxTs')\\\n",
    "    .select('userId', 'level').dropDuplicates()\n",
    "\n",
    "\n",
    "users_by_level = user_current_level.groupBy('level').agg(Fcount('level').alias('cnt')).sort('level').toPandas()"
   ]
  },
  {
   "cell_type": "code",
   "execution_count": 10,
   "metadata": {},
   "outputs": [
    {
     "data": {
      "image/png": "[encoded data removed]",
      "text/plain": [
       "<matplotlib.figure.Figure at 0x7fbf1e8cb860>"
      ]
     },
     "metadata": {
      "needs_background": "light"
     },
     "output_type": "display_data"
    }
   ],
   "source": [
    "fig, axs = plt.subplots(2, 2, figsize=(15,12))\n",
    "\n",
    "axs[0,0].barh(count_by_page.page, count_by_page.cnt, log=True)\n",
    "axs[0,0].set_title('Page Count (log scale)')\n",
    "\n",
    "# axs[0,1].bar(count_by_gender.gender, count_by_gender.cnt)\n",
    "# axs[0,1].set_title('Activities By Gender')\n",
    "\n",
    "axs[0,1].bar(count_by_gender.gender, count_by_gender.cnt, align='center', width=0.2)\n",
    "ax2 = axs[0,1].twinx()  # instantiate a second axes that shares the same x-axis\n",
    "ax2.bar(users_by_gender.gender, users_by_gender.cnt, align='edge', width=0.2, color='tab:green')\n",
    "axs[0,1].set_title('Gender Split')\n",
    "\n",
    "axs[0,1].set_xlabel('gender')\n",
    "axs[0,1].set_ylabel('activity count')\n",
    "ax2.tick_params(axis='y', labelcolor='tab:green')\n",
    "ax2.set_ylabel('user count')\n",
    "axs[0,1].legend(loc='upper right')\n",
    "\n",
    "\n",
    "\n",
    "axs[1,0].bar(count_by_level.level, count_by_level.cnt, width=0.3)\n",
    "ax3 = axs[1, 0].twinx()  # instantiate a second axes that shares the same x-axis\n",
    "ax3.bar(users_by_level.level, users_by_level.cnt, align='edge', width=0.2, color='tab:green')\n",
    "axs[1,0].set_title('Split by User Tier')\n",
    "\n",
    "axs[1,0].set_xlabel('tier')\n",
    "axs[1,0].set_ylabel('activity count')\n",
    "ax3.tick_params(axis='y', labelcolor='tab:green')\n",
    "ax3.set_ylabel('user count')\n",
    "axs[1,0].legend(loc='upper right')\n",
    "\n",
    "\n",
    "\n",
    "axs[1,1].bar(count_by_status.status, count_by_status.cnt, log=True, width=0.3)\n",
    "axs[1,1].set_title('Response Status Distribution')\n",
    "\n",
    "plt.show()"
   ]
  },
  {
   "cell_type": "markdown",
   "metadata": {},
   "source": [
    "- **page** column represents the events initiated by users and can be used to extract meaningful features for modeling and analysis.\n",
    "- **gender** split is roughly equal. We will check if there is a bias in churned users based on gender.\n",
    "- **level** contains if user is on free tier or paid subscription. It appears that 'paid' users are much more active, however this difference could also be due to more number of paid users in the available dataset.\n",
    "- **status** represents the HTTP response code received. 4xx error codes represent the error and we can see if receiving too many errors was a factor "
   ]
  },
  {
   "cell_type": "code",
   "execution_count": 11,
   "metadata": {},
   "outputs": [
    {
     "name": "stdout",
     "output_type": "stream",
     "text": [
      "Num Records showing different registration value for same userId 0\n"
     ]
    }
   ],
   "source": [
    "uid_reg_cnt = user_log_valid.select('userId', 'registration') \\\n",
    "                .dropDuplicates() \\\n",
    "                .groupBy('userId', 'registration') \\\n",
    "                .count().withColumnRenamed('count', 'cnt')\n",
    "print('Num Records showing different registration value for same userId', uid_reg_cnt.where('cnt > 1  or cnt < 1').count())"
   ]
  },
  {
   "cell_type": "markdown",
   "metadata": {},
   "source": [
    "**registration** represents the registration time for the given user. There's one-to-one relationship between them. We can utilize this column to derive the user lifetime."
   ]
  },
  {
   "cell_type": "markdown",
   "metadata": {},
   "source": [
    "Let's evaluate **number of songs played by hour of day**"
   ]
  },
  {
   "cell_type": "code",
   "execution_count": 12,
   "metadata": {},
   "outputs": [
    {
     "data": {
      "image/png": "[encoded data removed]",
      "text/plain": [
       "<matplotlib.figure.Figure at 0x7fbf398bcf60>"
      ]
     },
     "metadata": {
      "needs_background": "light"
     },
     "output_type": "display_data"
    }
   ],
   "source": [
    "play_count_by_hour = user_log_valid.where(user_log_valid.page=='NextSong') \\\n",
    "                        .groupby(Fhour(user_log_valid.timestamp).alias('hour')) \\\n",
    "                        .count().orderBy('hour').toPandas()\n",
    "\n",
    "ax = play_count_by_hour.plot(x='hour', title=\"Number of Songs Played by hour\", xticks=range(0,24,1), figsize=(12,5))\n",
    "ax.set(xlabel=\"hour\", ylabel=\"count\");"
   ]
  },
  {
   "cell_type": "markdown",
   "metadata": {},
   "source": [
    "### Define Churn\n",
    "\n",
    "Once you've done some preliminary analysis, create a column `Churn` to use as the label for your model. I suggest using the `Cancellation Confirmation` events to define your churn, which happen for both paid and free users. As a bonus task, you can also look into the `Downgrade` events."
   ]
  },
  {
   "cell_type": "markdown",
   "metadata": {},
   "source": [
    "We define 'Churn' as any user who cancels the services (occurence of 'Cancellation Confirmation' event). Let us mark our data with additional 'churned' column having value 'churned' for users who cancelled their services and 'active' otherwise.\n",
    "We also create a 'phase' column that has value 0 for events before user decides to downgrade services and 1 afterwards."
   ]
  },
  {
   "cell_type": "code",
   "execution_count": 13,
   "metadata": {},
   "outputs": [],
   "source": [
    "churn_func = udf(lambda x: 'churned' if x == 1 else 'active')\n",
    "# create downgrade label\n",
    "flag_downgrade_event = udf(lambda x: 1 if x == \"Submit Downgrade\" else 0, IntegerType())\n",
    "user_log_valid = user_log_valid.withColumn(\"downgraded\", flag_downgrade_event(\"page\"))\n",
    "\n",
    "windowVal = Window.partitionBy('userId').orderBy(desc('ts')).rangeBetween(Window.unboundedPreceding,0)\n",
    "user_log_valid = user_log_valid.withColumn('phase', Fsum('downgraded').over(windowVal))\n",
    "\n",
    "flag_cancelled_event = udf(lambda x: 1 if x == 'Cancellation Confirmation' else 0, IntegerType())\n",
    "user_log_valid = user_log_valid.withColumn('cancelled', flag_cancelled_event(user_log_valid.page))\n",
    "\n",
    "# mark user who've ever downgraded as churn\n",
    "windowval = Window.partitionBy('userId')\n",
    "user_log_valid = user_log_valid.withColumn('churned', churn_func(Fmax('cancelled').over(windowval)))"
   ]
  },
  {
   "cell_type": "code",
   "execution_count": 14,
   "metadata": {},
   "outputs": [
    {
     "data": {
      "text/plain": [
       "[Row(userId='100010', downgraded=0, phase=0, cancelled=0, churned='active'),\n",
       " Row(userId='100010', downgraded=0, phase=0, cancelled=0, churned='active'),\n",
       " Row(userId='100010', downgraded=0, phase=0, cancelled=0, churned='active'),\n",
       " Row(userId='100010', downgraded=0, phase=0, cancelled=0, churned='active'),\n",
       " Row(userId='100010', downgraded=0, phase=0, cancelled=0, churned='active')]"
      ]
     },
     "execution_count": 14,
     "metadata": {},
     "output_type": "execute_result"
    }
   ],
   "source": [
    "user_log_valid.select(['userId', 'downgraded', 'phase', 'cancelled', 'churned']).take(5)"
   ]
  },
  {
   "cell_type": "markdown",
   "metadata": {},
   "source": [
    "### Explore Churn\n",
    "Once you've defined churn, perform some exploratory data analysis to observe the behavior for users who stayed vs users who churned. You can start by exploring aggregates on these two groups of users, observing how much of a specific action they experienced per a certain time unit or number of songs played."
   ]
  },
  {
   "cell_type": "code",
   "execution_count": 15,
   "metadata": {},
   "outputs": [],
   "source": [
    "churned_split = user_log_valid.select(['userId', 'churned']) \\\n",
    "                    .dropDuplicates() \\\n",
    "                    .groupby('churned') \\\n",
    "                    .agg(Fcount('churned').alias('cnt'))\\\n",
    "                    .sort('churned') \\\n",
    "                    .toPandas()\n",
    "\n",
    "churn_by_gender = user_log_valid.select(['gender', 'userId', 'churned']) \\\n",
    "                    .dropDuplicates() \\\n",
    "                    .groupby('churned', 'gender') \\\n",
    "                    .count().withColumnRenamed('count', 'cnt') \\\n",
    "                    .toPandas() \\\n",
    "                    .pivot(index='churned', columns='gender')['cnt']\n",
    "\n",
    "churn_by_state = user_log_valid.where(user_log_valid.page=='Cancellation Confirmation') \\\n",
    "                    .select(['userId', 'state']) \\\n",
    "                    .groupBy('state') \\\n",
    "                    .count().withColumnRenamed('count', 'cnt') \\\n",
    "                    .toPandas()\n",
    "\n",
    "w = Window.partitionBy('userId')\n",
    "churn_by_tier = user_log_valid.withColumn('maxTs', Fmax('ts').over(w))\\\n",
    "                    .where(col('ts') == col('maxTs'))\\\n",
    "                    .drop('maxTs')\\\n",
    "                    .select('userId', 'churned', 'level') \\\n",
    "                    .dropDuplicates() \\\n",
    "                    .groupby('churned', 'level') \\\n",
    "                    .count().withColumnRenamed('count', 'cnt') \\\n",
    "                    .toPandas() \\\n",
    "                    .pivot(index='churned', columns='level')['cnt']\n",
    "\n",
    "user_ad_count = user_log_valid.where(user_log_valid.page=='Roll Advert') \\\n",
    "                    .groupBy('churned') \\\n",
    "                    .count() \\\n",
    "                    .withColumnRenamed('count', 'adCount') \\\n",
    "                    .sort('churned') \\\n",
    "                    .toPandas() \\\n",
    "                    .merge(churned_split)\n",
    "user_ad_count['avg_count'] = user_ad_count.adCount/user_ad_count.cnt"
   ]
  },
  {
   "cell_type": "code",
   "execution_count": 16,
   "metadata": {},
   "outputs": [
    {
     "data": {
      "image/png": "[encoded data removed]",
      "text/plain": [
       "<matplotlib.figure.Figure at 0x7fbf16fa27b8>"
      ]
     },
     "metadata": {
      "needs_background": "light"
     },
     "output_type": "display_data"
    }
   ],
   "source": [
    "#https://stackoverflow.com/questions/6170246/how-do-i-use-matplotlib-autopct\n",
    "def make_autopct(values):\n",
    "    def my_autopct(pct):\n",
    "        total = sum(values)\n",
    "        val = int(round(pct*total/100.0))\n",
    "        return '{p:.2f}%  ({v:d})'.format(p=pct,v=val)\n",
    "    return my_autopct\n",
    "\n",
    "\n",
    "fig, axs = plt.subplots(2,2, figsize=(15,15))\n",
    "\n",
    "axs[0,0].pie( churned_split.cnt, labels=churned_split.churned, autopct=make_autopct(churned_split.cnt))\n",
    "axs[0,0].set_title('Churned/Active Split')\n",
    "axs[1, 0].legend(loc='upper right')\n",
    "\n",
    "\n",
    "axs[0,1].bar([str(i) for i in churn_by_gender.index], churn_by_gender.M, label=\"Male\", align='edge', width=0.2)\n",
    "axs[0,1].bar([str(i) for i in churn_by_gender.index], churn_by_gender.F, label=\"Female\", align='center', width=0.2)\n",
    "axs[0,1].set_title('Churn By Gender')\n",
    "axs[0,1].legend(loc='upper right')\n",
    "\n",
    "axs[1, 0].bar([str(i) for i in churn_by_tier.index], churn_by_tier.free, label=\"Free\", align='edge', width=0.2)\n",
    "axs[1, 0].bar([str(i) for i in churn_by_tier.index], churn_by_tier.paid, label=\"Paid\", align='center', width=0.2)\n",
    "axs[1, 0].set_title('Churn By Level')\n",
    "axs[1, 0].legend(loc='upper right')\n",
    "\n",
    "\n",
    "axs[1,1].bar(user_ad_count.churned, user_ad_count.avg_count, width=.3)\n",
    "axs[1,1].set_title('Average Ad per user')\n",
    "\n",
    "plt.show()"
   ]
  },
  {
   "cell_type": "markdown",
   "metadata": {},
   "source": [
    "- Out of total 225 records, 52 churned and 173 remained subscribed.\n",
    "- Churn is slightly higher for male users.\n",
    "- Higher proportion of paid users remained active compared to free users.\n",
    "- Average number of ads seen by churned users is marginally higher compared to active users."
   ]
  },
  {
   "cell_type": "markdown",
   "metadata": {},
   "source": [
    "### Examin Churn by location"
   ]
  },
  {
   "cell_type": "code",
   "execution_count": 17,
   "metadata": {},
   "outputs": [
    {
     "data": {
      "image/png": "[encoded data removed]",
      "text/plain": [
       "<matplotlib.figure.Figure at 0x7fbf17dd4ba8>"
      ]
     },
     "metadata": {
      "needs_background": "light"
     },
     "output_type": "display_data"
    }
   ],
   "source": [
    "churned_users = user_log_valid.where(user_log_valid.churned=='churned')\\\n",
    "                    .select('userId','state')\\\n",
    "                    .dropDuplicates() \\\n",
    "                    .groupBy('state')\\\n",
    "                    .agg(Fcount('state').alias('cnt')).toPandas()\n",
    "churned_users.plot(kind='bar',x='state', y='cnt', figsize=(18,4));"
   ]
  },
  {
   "cell_type": "markdown",
   "metadata": {},
   "source": [
    "We see spikes for certain states. However, since overall counts are low (min 1 and max 6), we can not conclude any state bias on the churn."
   ]
  },
  {
   "cell_type": "markdown",
   "metadata": {},
   "source": [
    "### Examin number of songs"
   ]
  },
  {
   "cell_type": "code",
   "execution_count": 18,
   "metadata": {},
   "outputs": [],
   "source": [
    "weekly_songs_played = user_log_valid.where(user_log_valid.page=='NextSong').select(['timestamp', 'churned'])\n",
    "weekly_songs_played = weekly_songs_played.groupBy(window(weekly_songs_played.timestamp,\"1 week\"), 'churned').count()\n",
    "df = weekly_songs_played.select('window.start','churned','count').withColumnRenamed('count', 'cnt').toPandas()"
   ]
  },
  {
   "cell_type": "code",
   "execution_count": 19,
   "metadata": {},
   "outputs": [
    {
     "data": {
      "image/png": "[encoded data removed]",
      "text/plain": [
       "<matplotlib.figure.Figure at 0x7fbf16b5fb00>"
      ]
     },
     "metadata": {
      "needs_background": "light"
     },
     "output_type": "display_data"
    }
   ],
   "source": [
    "ax = df.pivot(index='start', columns='churned')['cnt'].plot(kind='line', figsize=(18,5))"
   ]
  },
  {
   "cell_type": "markdown",
   "metadata": {},
   "source": [
    "- number of songs played by churned users are low and they slowly go down over the period of time\n",
    "- number of songs played by active users more or less remain constant"
   ]
  },
  {
   "cell_type": "markdown",
   "metadata": {},
   "source": [
    "### Examin errors encountered"
   ]
  },
  {
   "cell_type": "code",
   "execution_count": 20,
   "metadata": {},
   "outputs": [
    {
     "data": {
      "text/html": [
       "<div>\n",
       "<style scoped>\n",
       "    .dataframe tbody tr th:only-of-type {\n",
       "        vertical-align: middle;\n",
       "    }\n",
       "\n",
       "    .dataframe tbody tr th {\n",
       "        vertical-align: top;\n",
       "    }\n",
       "\n",
       "    .dataframe thead th {\n",
       "        text-align: right;\n",
       "    }\n",
       "</style>\n",
       "<table border=\"1\" class=\"dataframe\">\n",
       "  <thead>\n",
       "    <tr style=\"text-align: right;\">\n",
       "      <th></th>\n",
       "      <th>churned</th>\n",
       "      <th>numErrors</th>\n",
       "      <th>cnt</th>\n",
       "      <th>avg_errors</th>\n",
       "    </tr>\n",
       "  </thead>\n",
       "  <tbody>\n",
       "    <tr>\n",
       "      <th>0</th>\n",
       "      <td>active</td>\n",
       "      <td>220</td>\n",
       "      <td>173</td>\n",
       "      <td>1.271676</td>\n",
       "    </tr>\n",
       "    <tr>\n",
       "      <th>1</th>\n",
       "      <td>churned</td>\n",
       "      <td>32</td>\n",
       "      <td>52</td>\n",
       "      <td>0.615385</td>\n",
       "    </tr>\n",
       "  </tbody>\n",
       "</table>\n",
       "</div>"
      ],
      "text/plain": [
       "   churned  numErrors  cnt  avg_errors\n",
       "0   active        220  173    1.271676\n",
       "1  churned         32   52    0.615385"
      ]
     },
     "execution_count": 20,
     "metadata": {},
     "output_type": "execute_result"
    }
   ],
   "source": [
    "churn_by_errors = user_log_valid.where(user_log_valid.page=='Error') \\\n",
    "                    .select('churned') \\\n",
    "                    .groupBy('churned') \\\n",
    "                    .count() \\\n",
    "                    .withColumnRenamed('count', 'numErrors') \\\n",
    "                    .sort('churned') \\\n",
    "                    .toPandas() \\\n",
    "                    .merge(churned_split)\n",
    "churn_by_errors['avg_errors'] = churn_by_errors.numErrors/churn_by_errors.cnt\n",
    "churn_by_errors"
   ]
  },
  {
   "cell_type": "markdown",
   "metadata": {},
   "source": [
    "- Proportionately, error page faced by active users is higher than the errors faced by users who cancelled subscription.\n",
    "- we don't think that to be an impact on user's decision. Neverthless we should consider it in our modeling."
   ]
  },
  {
   "cell_type": "markdown",
   "metadata": {},
   "source": [
    "# Feature Engineering\n",
    "Once you've familiarized yourself with the data, build out the features you find promising to train your model on. To work with the full dataset, you can follow the following steps.\n",
    "- Write a script to extract the necessary features from the smaller subset of data\n",
    "- Ensure that your script is scalable, using the best practices discussed in Lesson 3\n",
    "- Try your script on the full data set, debugging your script if necessary\n",
    "\n",
    "If you are working in the classroom workspace, you can just extract features based on the small subset of data contained here. Be sure to transfer over this work to the larger dataset when you work on your Spark cluster."
   ]
  },
  {
   "cell_type": "markdown",
   "metadata": {},
   "source": [
    "#### User Lifetime"
   ]
  },
  {
   "cell_type": "code",
   "execution_count": 21,
   "metadata": {},
   "outputs": [],
   "source": [
    "# Extract lifetime since registration\n",
    "user_lifetime = user_log_valid.select('userId','ts','registration') \\\n",
    "                    .groupBy('userId', 'registration') \\\n",
    "                    .agg((Fmax(user_log_valid.ts - user_log_valid.registration)/(1000*3600*24)).alias('lifetime')) \\\n",
    "                    .select(['userId', 'lifetime'])"
   ]
  },
  {
   "cell_type": "markdown",
   "metadata": {},
   "source": [
    "#### Session Count, Average, Minimum and Maximum Session Duration"
   ]
  },
  {
   "cell_type": "code",
   "execution_count": 22,
   "metadata": {},
   "outputs": [],
   "source": [
    "# Session Count, Average, Minimum and Maximum Session Duration\n",
    "user_session_info = user_log_valid.groupBy('userId', 'sessionId') \\\n",
    "                        .agg((Fmax(user_log_valid.ts)-Fmin(user_log_valid.ts)).alias('duration'))\n",
    "user_session_info = user_session_info.groupBy('userId') \\\n",
    "                        .agg(Fcount('sessionId').alias('sessionCount'), \\\n",
    "                             Favg('duration').alias('averageSessionDuration'), \\\n",
    "                             Fmax('duration').alias('maxSessionDuration'), \\\n",
    "                             Fmin('duration').alias('minSessionDuration'))"
   ]
  },
  {
   "cell_type": "markdown",
   "metadata": {},
   "source": [
    "#### Number of songs played per session"
   ]
  },
  {
   "cell_type": "code",
   "execution_count": 23,
   "metadata": {},
   "outputs": [],
   "source": [
    "# Number of songs played per session\n",
    "user_avg_songs = user_log_valid.where(user_log_valid.page=='NextSong').groupBy('userId', 'sessionId').count()\n",
    "user_avg_songs = user_avg_songs.groupBy('userId').agg(Favg('count').alias('songsPerSession'))"
   ]
  },
  {
   "cell_type": "markdown",
   "metadata": {},
   "source": [
    "#### Number of songs added to playlist"
   ]
  },
  {
   "cell_type": "code",
   "execution_count": 24,
   "metadata": {},
   "outputs": [],
   "source": [
    "user_playlist_count = user_log_valid.where(user_log_valid.page=='Add to Playlist') \\\n",
    "                        .groupBy('userId') \\\n",
    "                        .count() \\\n",
    "                        .withColumnRenamed('count', 'playlistCount')"
   ]
  },
  {
   "cell_type": "markdown",
   "metadata": {},
   "source": [
    "#### Number of Errors encountered"
   ]
  },
  {
   "cell_type": "code",
   "execution_count": 25,
   "metadata": {},
   "outputs": [],
   "source": [
    "user_error_count = user_log_valid.where(user_log_valid.page=='Error') \\\n",
    "                        .groupBy('userId') \\\n",
    "                        .count().withColumnRenamed('count', 'errorCount')"
   ]
  },
  {
   "cell_type": "markdown",
   "metadata": {},
   "source": [
    "#### Number of Advertisements seen"
   ]
  },
  {
   "cell_type": "code",
   "execution_count": 26,
   "metadata": {},
   "outputs": [],
   "source": [
    "user_ad_count = user_log_valid.where(user_log_valid.page=='Roll Advert') \\\n",
    "                    .groupBy('userId').count() \\\n",
    "                    .withColumnRenamed('count', 'adCount')"
   ]
  },
  {
   "cell_type": "markdown",
   "metadata": {},
   "source": [
    "#### Number of friends added"
   ]
  },
  {
   "cell_type": "code",
   "execution_count": 27,
   "metadata": {},
   "outputs": [],
   "source": [
    "user_friends_count = user_log_valid.where(user_log_valid.page=='Add Friend') \\\n",
    "                        .groupBy('userId').count() \\\n",
    "                        .withColumnRenamed('count', 'friendCount')"
   ]
  },
  {
   "cell_type": "markdown",
   "metadata": {},
   "source": [
    "#### Number of Thumbs Up and Thumbs Down events"
   ]
  },
  {
   "cell_type": "code",
   "execution_count": 28,
   "metadata": {},
   "outputs": [],
   "source": [
    "user_thumbsup_count = user_log_valid.where(user_log_valid.page=='Thumbs Up') \\\n",
    "                        .groupBy('userId').count() \\\n",
    "                        .withColumnRenamed('count', 'thumbsUpCount')\n",
    "user_thumbsdown_count = user_log_valid.where(user_log_valid.page=='Thumbs Down') \\\n",
    "                        .groupBy('userId').count() \\\n",
    "                        .withColumnRenamed('count', 'thumbsDownCount')"
   ]
  },
  {
   "cell_type": "markdown",
   "metadata": {},
   "source": [
    "#### Map 'paid'/'free' tier to binary 1/0 values"
   ]
  },
  {
   "cell_type": "code",
   "execution_count": 29,
   "metadata": {},
   "outputs": [],
   "source": [
    "level_mapper = udf(lambda x: 1 if x == 'paid' else 0, IntegerType())\n",
    "user_current_level = user_current_level.withColumn('level', level_mapper(user_current_level.level))"
   ]
  },
  {
   "cell_type": "markdown",
   "metadata": {},
   "source": [
    "#### Songs Skip Forwarded\n",
    "\n",
    "Assuming users are recommended next song by recommendation engine, the percentage length of song listened by user could be a good indicator of effectiveness of our recommendation engine. The dataset provides the length of song in seconds.\n",
    "We can compute the difference in event timestamps (next event's timestamp minus current event's timestamp) to see how long user listened to the song.\n",
    "Longer the user stays on the current song before moving onto the next one, better the effectiveness of recommendation and higher the chances of retaining users."
   ]
  },
  {
   "cell_type": "code",
   "execution_count": 30,
   "metadata": {},
   "outputs": [],
   "source": [
    "w = Window().partitionBy(\"userId\",\"sessionId\").orderBy(\"timestamp\")\n",
    "\n",
    "df_lag = user_log_valid.withColumn('next_ts',\n",
    "                        lag(user_log_valid['ts'], -1)\n",
    "                                 .over(w))\n",
    "\n",
    "user_log_valid = df_lag.withColumn('play_duration', \n",
    "          (df_lag['next_ts']-df_lag['ts'])/(df_lag['length']*1000) )\n",
    "\n",
    "user_avg_listen_length = user_log_valid.where(user_log_valid.page=='NextSong') \\\n",
    "                            .groupBy('userId') \\\n",
    "                            .agg(Favg('play_duration').alias('avg_listen_length'))"
   ]
  },
  {
   "cell_type": "code",
   "execution_count": 31,
   "metadata": {},
   "outputs": [],
   "source": [
    "gender_mapper = udf(lambda x: 1 if x == 'M' else 0, IntegerType())\n",
    "churn_mapper = udf(lambda x: 1 if x == 'churned' else 0, IntegerType())\n",
    "\n",
    "users = user_log_valid.select('userId', churn_mapper('churned').alias('label'), gender_mapper('gender').alias('gender')) \\\n",
    "            .dropDuplicates()\n",
    "\n",
    "data_ml = users.join(user_lifetime, on='userId', how='left')\\\n",
    "            .join(user_session_info, on='userId', how='left')\\\n",
    "            .join(user_avg_songs, on='userId', how='left')\\\n",
    "            .join(user_playlist_count, on='userId', how='left')\\\n",
    "            .join(user_error_count, on='userId', how='left')\\\n",
    "            .join(user_ad_count, on='userId', how='left')\\\n",
    "            .join(user_friends_count, on='userId', how='left')\\\n",
    "            .join(user_thumbsup_count, on='userId', how='left')\\\n",
    "            .join(user_thumbsdown_count, on='userId', how='left')\\\n",
    "            .join(user_avg_listen_length, on='userId', how='left')\\\n",
    "            .join(user_current_level, on='userId', how='left')\\\n",
    "            .drop('userId') \\\n",
    "            .fillna(0)\n",
    "\n",
    "# A Note on Last operation 'fillna' above\n",
    "# if users have not performed a certain action e.g. add-to-playlist or thumbs-up/thumbs-down,\n",
    "# the corresponding value will be left NULL by left join. \n",
    "# This effect is seen in engineered count and average columns. We can safely fill these values to 0"
   ]
  },
  {
   "cell_type": "markdown",
   "metadata": {},
   "source": [
    "#### A Note on Last operation 'fillna' above\n",
    "If users have not performed a certain action e.g. add-to-playlist or thumbs-up/thumbs-down, the corresponding value will be left NULL by left join. This effect is seen in engineered count and average columns. We can safely fill these values to 0"
   ]
  },
  {
   "cell_type": "code",
   "execution_count": 32,
   "metadata": {},
   "outputs": [
    {
     "name": "stdout",
     "output_type": "stream",
     "text": [
      "root\n",
      " |-- label: integer (nullable = true)\n",
      " |-- gender: integer (nullable = true)\n",
      " |-- lifetime: double (nullable = false)\n",
      " |-- sessionCount: long (nullable = true)\n",
      " |-- averageSessionDuration: double (nullable = false)\n",
      " |-- maxSessionDuration: long (nullable = true)\n",
      " |-- minSessionDuration: long (nullable = true)\n",
      " |-- songsPerSession: double (nullable = false)\n",
      " |-- playlistCount: long (nullable = true)\n",
      " |-- errorCount: long (nullable = true)\n",
      " |-- adCount: long (nullable = true)\n",
      " |-- friendCount: long (nullable = true)\n",
      " |-- thumbsUpCount: long (nullable = true)\n",
      " |-- thumbsDownCount: long (nullable = true)\n",
      " |-- avg_listen_length: double (nullable = false)\n",
      " |-- level: integer (nullable = true)\n",
      "\n"
     ]
    }
   ],
   "source": [
    "data_ml.printSchema()"
   ]
  },
  {
   "cell_type": "code",
   "execution_count": 33,
   "metadata": {},
   "outputs": [],
   "source": [
    "data_ml.write.save(processed_file_path, format=\"json\", mode=\"overwrite\")"
   ]
  },
  {
   "cell_type": "markdown",
   "metadata": {},
   "source": [
    "# Modeling\n",
    "Split the full dataset into train, test, and validation sets. Test out several of the machine learning methods you learned. Evaluate the accuracy of the various models, tuning parameters as necessary. Determine your winning model based on test accuracy and report results on the validation set. Since the churned users are a fairly small subset, I suggest using F1 score as the metric to optimize."
   ]
  },
  {
   "cell_type": "code",
   "execution_count": 34,
   "metadata": {},
   "outputs": [],
   "source": [
    "data_ml = spark.read.json(processed_file_path)"
   ]
  },
  {
   "cell_type": "markdown",
   "metadata": {},
   "source": [
    "### Choosing the evaluation metric"
   ]
  },
  {
   "cell_type": "markdown",
   "metadata": {},
   "source": [
    "As this is a binary classification problem, we should consider accuracy, precision, recall, f1 score or Area Under ROC curve as our possible evaluation metrics.\n",
    "\n",
    "**accuracy** and **Area under ROC** work best when our _labels_ are balanced. Our target variable 'churned' is skewed having 76% negative and 24% positive cases. Hence we can not use _accuracy_ or _Area under ROC_ as our metric.\n",
    "\n",
    " "
   ]
  },
  {
   "cell_type": "code",
   "execution_count": 35,
   "metadata": {},
   "outputs": [
    {
     "name": "stdout",
     "output_type": "stream",
     "text": [
      "======================Naive Prediction Scores======================\n",
      "Predict No Churning:\n",
      " {'accuracy': 0.7688888888888888, 'precision': 0, 'recall': 0.0, 'specificity': 1.0, 'f1_score': 0}\n",
      "Predict Everybody as Churned:\n",
      " {'accuracy': 0.2311111111111111, 'precision': 0.2311111111111111, 'recall': 1.0, 'specificity': 0.0, 'f1_score': 0.37545126353790614}\n"
     ]
    }
   ],
   "source": [
    "def get_metrics(df):\n",
    "    TP = df[(df.label==1) & (df.prediction==1)].shape[0]\n",
    "    TN = df[(df.label==0) & (df.prediction==0)].shape[0]\n",
    "    FP = df[(df.label==0) & (df.prediction==1)].shape[0]\n",
    "    FN = df[(df.label==1) & (df.prediction==0)].shape[0]\n",
    "    accuracy = (TP+TN)/(TP + TN + FP + FN)\n",
    "    precision = 0 if (TP+FP)==0 else TP/(TP+FP)\n",
    "    recall = 0 if (TP+FN)==0 else TP/(TP+FN)\n",
    "    specificity =  0 if (TN+FP)==0 else TN/(TN+FP)\n",
    "    f1_score = 0 if (precision + recall)==0 else (2*precision*recall) / (precision + recall)\n",
    "    return {'accuracy': accuracy, 'precision':precision, 'recall': recall, 'specificity': specificity, 'f1_score': f1_score}\n",
    "\n",
    "df = data_ml.select('label').toPandas()\n",
    "df['prediction'] = 0\n",
    "results0 = get_metrics(df)\n",
    "\n",
    "df['prediction'] = 1\n",
    "results1 = get_metrics(df)\n",
    "\n",
    "print('======================Naive Prediction Scores======================')\n",
    "print('Predict No Churning:\\n', results0)\n",
    "print('Predict Everybody as Churned:\\n', results1)\n"
   ]
  },
  {
   "cell_type": "markdown",
   "metadata": {},
   "source": [
    "We should attempt to catch as many churned users as possible, since we do not want those users to leave our site. However, classifying everybody as 'churned' would be counter productive as Sparkify would end up offering discounts to all users resulting in revenue loss.\n",
    "\n",
    "We must try to maximize both _Precision and Recall_ scores. A balancing F1 score appears to be the best measure of scoring our model.\n",
    "\n",
    "Our naive predictions gave f1 score of 0 (when predicting no churning) and ~0.38 when predicting complete churn. Let us apply supervised learning techniques to see if we can have a model with better prediction than this."
   ]
  },
  {
   "cell_type": "markdown",
   "metadata": {},
   "source": [
    "### Vectorize and Scale"
   ]
  },
  {
   "cell_type": "code",
   "execution_count": 36,
   "metadata": {},
   "outputs": [],
   "source": [
    "feature_columns = [col for col in data_ml.columns if col!='label']\n",
    "\n",
    "assembler = VectorAssembler(inputCols=feature_columns, outputCol='FeatureVector')\n",
    "\n",
    "data_ml = assembler.transform(data_ml)\n",
    "\n",
    "scaler = StandardScaler(inputCol=\"FeatureVector\", outputCol=\"features\", withStd=True)\n",
    "train, test = data_ml.randomSplit([0.7, 0.3], seed=42)\n",
    "\n",
    "scalerModel = scaler.fit(train)\n",
    "train = scalerModel.transform(train).select(col('features'), col('label')).persist()\n",
    "test = scalerModel.transform(test).select(col('features'), col('label')).persist()"
   ]
  },
  {
   "cell_type": "code",
   "execution_count": 37,
   "metadata": {},
   "outputs": [],
   "source": [
    "from pyspark.ml.evaluation import Evaluator\n",
    "import random\n",
    "\n",
    "class F1ScoreEvaluator(Evaluator):\n",
    "\n",
    "    def __init__(self, predictionCol=\"prediction\", labelCol=\"label\"):\n",
    "        self.predictionCol = predictionCol\n",
    "        self.labelCol = labelCol\n",
    "\n",
    "    def _evaluate(self, dataset):\n",
    "        \"\"\"\n",
    "        Returns a random number. \n",
    "        Implement here the true metric\n",
    "        \"\"\"\n",
    "        score = get_metrics(dataset.select('label', 'prediction').toPandas())['f1_score']\n",
    "        return score\n",
    "\n",
    "    def isLargerBetter(self):\n",
    "        return True"
   ]
  },
  {
   "cell_type": "code",
   "execution_count": 38,
   "metadata": {},
   "outputs": [],
   "source": [
    "def train_model(train_data, test_data, estimator, paramGrid=None):\n",
    "    estimatorName = estimator.__class__.__name__\n",
    "    evaluator = F1ScoreEvaluator() #BinaryClassificationEvaluator(metricName=\"areaUnderPR\")\n",
    "    if paramGrid != None:\n",
    "        estimator = CrossValidator(estimator=estimator,\n",
    "                          estimatorParamMaps=paramGrid,\n",
    "                          evaluator=evaluator,\n",
    "                          numFolds=3)\n",
    "      \n",
    "    model = estimator.fit(train_data)\n",
    "    train_pred = model.transform(train_data)\n",
    "    test_pred = model.transform(test_data)\n",
    "    train_f1 = evaluator.evaluate(train_pred);\n",
    "    test_f1 = evaluator.evaluate(test_pred);\n",
    "    result = {'estimator': estimatorName, 'train_f1':train_f1, 'test_f1':test_f1, 'model': model}\n",
    "    return result\n"
   ]
  },
  {
   "cell_type": "markdown",
   "metadata": {},
   "source": [
    "Let us evaluate several machine learning models for f1 score. We will choose promising models and further optimize these models."
   ]
  },
  {
   "cell_type": "code",
   "execution_count": 39,
   "metadata": {},
   "outputs": [
    {
     "name": "stdout",
     "output_type": "stream",
     "text": [
      "{'estimator': 'LogisticRegression', 'train_f1': 0.5714285714285714, 'test_f1': 0.5714285714285714, 'model': LogisticRegressionModel: uid = LogisticRegression_c5f8da6ad997, numClasses = 2, numFeatures = 15}\n",
      "{'estimator': 'RandomForestClassifier', 'train_f1': 0.8474576271186441, 'test_f1': 0.5185185185185185, 'model': RandomForestClassificationModel (uid=RandomForestClassifier_e303a7e56bc3) with 20 trees}\n",
      "{'estimator': 'GBTClassifier', 'train_f1': 1.0, 'test_f1': 0.5714285714285715, 'model': GBTClassificationModel (uid=GBTClassifier_59db6ba43215) with 20 trees}\n",
      "{'estimator': 'DecisionTreeClassifier', 'train_f1': 0.888888888888889, 'test_f1': 0.5714285714285715, 'model': DecisionTreeClassificationModel (uid=DecisionTreeClassifier_3baa3d7a6309) of depth 5 with 31 nodes}\n",
      "{'estimator': 'NaiveBayes', 'train_f1': 0.31999999999999995, 'test_f1': 0.2962962962962963, 'model': NaiveBayes_3c698f348543}\n"
     ]
    },
    {
     "data": {
      "image/png": "[encoded data removed]",
      "text/plain": [
       "<matplotlib.figure.Figure at 0x7fbf1e0336d8>"
      ]
     },
     "metadata": {
      "needs_background": "light"
     },
     "output_type": "display_data"
    }
   ],
   "source": [
    "results = []\n",
    "all_algo = [LogisticRegression(), \\\n",
    "            RandomForestClassifier(seed=49), \\\n",
    "            GBTClassifier(seed=49), \\\n",
    "            DecisionTreeClassifier(seed=49), \\\n",
    "            NaiveBayes()]\n",
    "\n",
    "for algo in all_algo:\n",
    "    result = train_model(train, test, algo, None)\n",
    "    print(result)\n",
    "    results.append(result)\n",
    "    \n",
    "pd.DataFrame(results).plot(kind='bar', x='estimator', y=['train_f1', 'test_f1']);\n"
   ]
  },
  {
   "cell_type": "markdown",
   "metadata": {},
   "source": [
    "- **LogisticRegression** has consistent F1 score between train and test sets\n",
    "- **GBTClassifier** and **DecisionTreeClassifier** both have high training F1 score and better test scores compared to **RandomForestClassfier**.\n",
    "- **NaiveBayes** shows very poor training and testing scores."
   ]
  },
  {
   "cell_type": "code",
   "execution_count": 45,
   "metadata": {},
   "outputs": [],
   "source": [
    "tunedResults=[]"
   ]
  },
  {
   "cell_type": "code",
   "execution_count": 46,
   "metadata": {},
   "outputs": [
    {
     "name": "stdout",
     "output_type": "stream",
     "text": [
      "{'estimator': 'RandomForestClassifier', 'train_f1': 0.8474576271186441, 'test_f1': 0.5185185185185185, 'model': CrossValidatorModel_0b0daa61bd93}\n"
     ]
    }
   ],
   "source": [
    "# RandomForestClassifier, \n",
    "algo = RandomForestClassifier(seed=49)\n",
    "paramGrid = ParamGridBuilder() \\\n",
    "    .addGrid(algo.maxDepth,[2, 3, 5]) \\\n",
    "    .addGrid(algo.minInstancesPerNode,[1,2,3]) \\\n",
    "    .addGrid(algo.maxBins, [4, 8, 16, 32]) \\\n",
    "    .build()\n",
    "\n",
    "result = train_model(train, test, algo, paramGrid)\n",
    "print(result)\n",
    "tunedResults.append(result)"
   ]
  },
  {
   "cell_type": "code",
   "execution_count": 47,
   "metadata": {},
   "outputs": [
    {
     "name": "stdout",
     "output_type": "stream",
     "text": [
      "{'estimator': 'DecisionTreeClassifier', 'train_f1': 0.5714285714285714, 'test_f1': 0.2962962962962963, 'model': CrossValidatorModel_63954a6cf452}\n"
     ]
    }
   ],
   "source": [
    "algo = DecisionTreeClassifier(seed=49)\n",
    "paramGrid = ParamGridBuilder() \\\n",
    "    .addGrid(algo.maxDepth,[2, 3, 5]) \\\n",
    "    .addGrid(algo.minInstancesPerNode,[1,2,3]) \\\n",
    "    .addGrid(algo.maxBins, [4, 8, 16, 32]) \\\n",
    "    .build()\n",
    "\n",
    "result = train_model(train, test, algo, paramGrid)\n",
    "\n",
    "print(result)\n",
    "tunedResults.append(result)"
   ]
  },
  {
   "cell_type": "code",
   "execution_count": 48,
   "metadata": {},
   "outputs": [
    {
     "name": "stdout",
     "output_type": "stream",
     "text": [
      "{'estimator': 'GBTClassifier', 'train_f1': 1.0, 'test_f1': 0.5294117647058824, 'model': CrossValidatorModel_d7fd452c8e9c}\n"
     ]
    }
   ],
   "source": [
    "algo = GBTClassifier(seed=49)\n",
    "paramGrid = ParamGridBuilder() \\\n",
    "    .addGrid(algo.maxDepth,[2, 3, 5]) \\\n",
    "    .addGrid(algo.minInstancesPerNode,[1,2,3]) \\\n",
    "    .addGrid(algo.maxBins, [4, 8, 16, 32]) \\\n",
    "    .build()\n",
    "\n",
    "result = train_model(train, test, algo, paramGrid)\n",
    "\n",
    "print(result)\n",
    "tunedResults.append(result)"
   ]
  },
  {
   "cell_type": "code",
   "execution_count": 49,
   "metadata": {},
   "outputs": [
    {
     "data": {
      "image/png": "[encoded data removed]",
      "text/plain": [
       "<matplotlib.figure.Figure at 0x7fbf1644f048>"
      ]
     },
     "metadata": {
      "needs_background": "light"
     },
     "output_type": "display_data"
    }
   ],
   "source": [
    "pd.DataFrame(tunedResults).plot(kind='bar', x='estimator', y=['train_f1', 'test_f1']);"
   ]
  },
  {
   "cell_type": "markdown",
   "metadata": {},
   "source": [
    "GBTClassifier shows the best results. This still seems to be overfitting and the F1-score on test data is not as good. We should consider engineering more relevant features and time-chunk the features to see if the trend over period provides better indication of user churn."
   ]
  },
  {
   "cell_type": "markdown",
   "metadata": {},
   "source": [
    "# Final Steps\n",
    "Clean up your code, adding comments and renaming variables to make the code easier to read and maintain. Refer to the Spark Project Overview page and Data Scientist Capstone Project Rubric to make sure you are including all components of the capstone project and meet all expectations. Remember, this includes thorough documentation in a README file in a Github repository, as well as a web app or blog post."
   ]
  },
  {
   "cell_type": "markdown",
   "metadata": {},
   "source": [
    "## Reflection\n",
    "\n",
    "- After feature engineering, I used the same dataframe for further test/train split and subsequent model training. It was taking long time even for small amount of data. It seems very obvious now but it was interesting to realize that since Spark procastinates the operations on DataFrames, training iterations were taking long as entire transformation pipeline was run everytime. Persisting the dataset with engineered features and reloading it quickened up the model training.\n",
    "\n",
    "## Further Improvements\n",
    "\n",
    "- Several features like average session duration, songs listened per session have been averaged out for entire period. Splitting it 'week on week' could reveal interesting trends, as a shrinking session duration over the period may be a better indicator of users prone to churn. This may also improve accuracy of model.\n",
    "\n",
    "- Additional information about user profile like user's age group, interests if made available, could have been very useful.\n",
    "- We can derive the song genre based on title and external lookup. If users liking a particular genre are churning more, this could indicate issues with out recommendation engine."
   ]
  }
 ],
 "metadata": {
  "kernelspec": {
   "display_name": "Python 3",
   "language": "python",
   "name": "python3"
  },
  "language_info": {
   "codemirror_mode": {
    "name": "ipython",
    "version": 3
   },
   "file_extension": ".py",
   "mimetype": "text/x-python",
   "name": "python",
   "nbconvert_exporter": "python",
   "pygments_lexer": "ipython3",
   "version": "3.6.3"
  }
 },
 "nbformat": 4,
 "nbformat_minor": 2
}
